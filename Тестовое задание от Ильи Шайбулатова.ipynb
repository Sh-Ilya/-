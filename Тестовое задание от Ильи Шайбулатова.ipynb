{
 "cells": [
  {
   "cell_type": "markdown",
   "metadata": {},
   "source": [
    "### Задача: ответить на 5 вопросов и построить 1 график по предоставленным данным.\n",
    " \n",
    "#### Описание \t\n",
    "Общая информация.\n",
    "\n",
    "\tВы получили информацию о продажах одежды по месяцам (не все месяцы) за последний год в виде двух файлов.\n",
    "    \n",
    "\tЗадание01_Продажи_ToShare - история продаж.\n",
    "    \n",
    "\tЗадание01_Остатки_ToShare - количество остатков товара на складе, его цена продажи и себестоимость.\n",
    "    \n",
    "##### Необходимо ответить на вопросы.\n",
    "    \n",
    "-\t1. Назовите общую сумму продаж в рублях за июль?\n",
    "-\t2. Какая общая сумма прибыли (продажи-себестоимость) в рублях в октябре?\n",
    "-\t3. Назовите артикул (новый), который в рейтинге продаж (в рублях) был на 5 месте в августе?\n",
    "-\t4. Какой остаток на складе ТОП-10 артикулов по продажам (в рублях) в августе?\n",
    "-\t5. Определите, нормальное ли распределение ‘Продаж, шт’? Вычислите квадратное отклонение выборки, а также в каком диапазоне лежат 95% значений.\n",
    "-\tПостройте график распределения количества буквенных размеров ('M', 'L', 'S', 'XL', 'XS', 'XXL', 'XXXL', 'XXS') в выборке\n",
    "\n",
    "\n",
    "#### Какая информация доступна\n",
    "\n",
    "###### Складские остатки на утро сегодняшнего дня - в файле \"Задание_01_Остатки_ToShare\", пояснения по столбцам\n",
    "-\tАртикул новый - код цветомодели (например, код красной футболки), у разных размеров одной цветомодели один код. Состоит из 16 символов (12 + 4 через пробел)\n",
    "-\tРазмер - размер модели (или его отсутствие \"no size\", если вещь без размера)\n",
    "-\tОстаток на складе, шт.  - остатки товара на складе\n",
    "-\tСебестоимость, руб. - себестоимость одной единицы товара\n",
    "-\tЦена продажи, руб. - цена, за которую товар продавался в прошлом году\n",
    "###### Статистика продаж на WB - файл \"Задание01_Продажи_ToShare\"\n",
    "-\tАртикул старый - код цветомоделей, но в старом формате. ВАЖНО, он отличается нового формата артикулов, а именно\n",
    "-\tЕсли он выглядит вот так (т.е. без знака \"/\"): \"21022322U1535900\", то тогда он является новым артикулом цветомодели\n",
    "-\tЕсли знак \"/\" на 13 позиции, например: \"020245D5Z022/55D0\", то тогда новый артикул цветомодели из него получается простым удалением символа \"/\", т.е. в нашем случае это будет \"\"020245D5Z02255D0\"\"\n",
    "-\tА если знак \"/\" на 15 позиции, например: \"02025727Y052D0/55\", то тогда новый артикул цветомодели можно получить как \"Левые 12 символов + правые два символа + два символа на позиция 13 и 14\", т.е. в нашем случае это \"02025727Y05255D0\"\n",
    "-\tЕсть несколько «ошибочных» позиций, у которых знак «/» на 17 позиции, в таком случае надо просто взять 16 левых символов\n",
    "-\tРазмер — это размер одежды, в случае если размера нет (\"no size\"), то это кодируется \"0\" в данной выгрузке\n",
    "-\tМесяц - порядковый месяц, в котором были совершены продажи\n",
    "-\tПродажи, шт. - число проданных единиц за указанный месяц\n",
    "-\tВАЖНО: не по всем артикулам есть информация по остаткам/цене продажи/себестоимости, по таким позициям считать, что \n",
    "\tИх остаток равен 0\n",
    "\tСебестоимость равна 200 рублей / шт.\n",
    "\tЦена продажи составляет 1000 рублей / шт.\n",
    "\n",
    "Работу можно выполнить любым удобным вам способом. От вас необходимо ответы на вопросы и график.\n",
    "Ответы отправлять сообщением на мессенджер Telegram @beaty_city, в любое удобное время. Если возникнут вопросы, можно также задать их в мессенджере.\n",
    "Работа примерно займет от 1 до 2 часов времени.\n",
    "Срок выполнения задания максимум 4 дня.\n",
    "\n"
   ]
  },
  {
   "cell_type": "code",
   "execution_count": 1,
   "metadata": {},
   "outputs": [],
   "source": [
    "# импортирую необходимые библиотеки\n",
    "import pandas as pd\n",
    "import numpy as np"
   ]
  },
  {
   "cell_type": "code",
   "execution_count": 3,
   "metadata": {},
   "outputs": [
    {
     "data": {
      "text/html": [
       "<div>\n",
       "<style scoped>\n",
       "    .dataframe tbody tr th:only-of-type {\n",
       "        vertical-align: middle;\n",
       "    }\n",
       "\n",
       "    .dataframe tbody tr th {\n",
       "        vertical-align: top;\n",
       "    }\n",
       "\n",
       "    .dataframe thead th {\n",
       "        text-align: right;\n",
       "    }\n",
       "</style>\n",
       "<table border=\"1\" class=\"dataframe\">\n",
       "  <thead>\n",
       "    <tr style=\"text-align: right;\">\n",
       "      <th></th>\n",
       "      <th>Артикул новый</th>\n",
       "      <th>Размер</th>\n",
       "      <th>Остаток на складе, шт.</th>\n",
       "      <th>Себестоимость, руб.</th>\n",
       "      <th>Цена продажи, руб.</th>\n",
       "    </tr>\n",
       "  </thead>\n",
       "  <tbody>\n",
       "    <tr>\n",
       "      <th>0</th>\n",
       "      <td>010112159012 0100                             ...</td>\n",
       "      <td>M</td>\n",
       "      <td>118</td>\n",
       "      <td>1211</td>\n",
       "      <td>2846</td>\n",
       "    </tr>\n",
       "    <tr>\n",
       "      <th>1</th>\n",
       "      <td>010112159052 01P0                             ...</td>\n",
       "      <td>L</td>\n",
       "      <td>247</td>\n",
       "      <td>465</td>\n",
       "      <td>1311</td>\n",
       "    </tr>\n",
       "    <tr>\n",
       "      <th>2</th>\n",
       "      <td>010112159052 01P0                             ...</td>\n",
       "      <td>M</td>\n",
       "      <td>134</td>\n",
       "      <td>763</td>\n",
       "      <td>1564</td>\n",
       "    </tr>\n",
       "  </tbody>\n",
       "</table>\n",
       "</div>"
      ],
      "text/plain": [
       "                                       Артикул новый  \\\n",
       "0  010112159012 0100                             ...   \n",
       "1  010112159052 01P0                             ...   \n",
       "2  010112159052 01P0                             ...   \n",
       "\n",
       "                      Размер  Остаток на складе, шт.  Себестоимость, руб.  \\\n",
       "0  M                                             118                 1211   \n",
       "1  L                                             247                  465   \n",
       "2  M                                             134                  763   \n",
       "\n",
       "   Цена продажи, руб.  \n",
       "0                2846  \n",
       "1                1311  \n",
       "2                1564  "
      ]
     },
     "execution_count": 3,
     "metadata": {},
     "output_type": "execute_result"
    }
   ],
   "source": [
    "# загружаю файл с остатками\n",
    "remains  = pd.read_excel('Задание01_Остатки_ToShare.xlsx')\n",
    "remains.head(3)"
   ]
  },
  {
   "cell_type": "code",
   "execution_count": 4,
   "metadata": {},
   "outputs": [
    {
     "data": {
      "text/plain": [
       "(10328, 5)"
      ]
     },
     "execution_count": 4,
     "metadata": {},
     "output_type": "execute_result"
    }
   ],
   "source": [
    "remains.shape"
   ]
  },
  {
   "cell_type": "code",
   "execution_count": 5,
   "metadata": {},
   "outputs": [],
   "source": [
    "# удаляю лишние пробелы\n",
    "remains['Артикул новый'] = remains['Артикул новый'].str.strip()\n",
    "remains['Размер'] = remains['Размер'].str.strip()"
   ]
  },
  {
   "cell_type": "code",
   "execution_count": 6,
   "metadata": {},
   "outputs": [
    {
     "data": {
      "text/html": [
       "<div>\n",
       "<style scoped>\n",
       "    .dataframe tbody tr th:only-of-type {\n",
       "        vertical-align: middle;\n",
       "    }\n",
       "\n",
       "    .dataframe tbody tr th {\n",
       "        vertical-align: top;\n",
       "    }\n",
       "\n",
       "    .dataframe thead th {\n",
       "        text-align: right;\n",
       "    }\n",
       "</style>\n",
       "<table border=\"1\" class=\"dataframe\">\n",
       "  <thead>\n",
       "    <tr style=\"text-align: right;\">\n",
       "      <th></th>\n",
       "      <th>Артикул старый</th>\n",
       "      <th>Размер</th>\n",
       "      <th>Месяц</th>\n",
       "      <th>Продажи, шт.</th>\n",
       "    </tr>\n",
       "  </thead>\n",
       "  <tbody>\n",
       "    <tr>\n",
       "      <th>0</th>\n",
       "      <td>02025727Y052D0/55</td>\n",
       "      <td>XS</td>\n",
       "      <td>9</td>\n",
       "      <td>88</td>\n",
       "    </tr>\n",
       "    <tr>\n",
       "      <th>1</th>\n",
       "      <td>02025727Y052D0/55</td>\n",
       "      <td>S</td>\n",
       "      <td>6</td>\n",
       "      <td>128</td>\n",
       "    </tr>\n",
       "    <tr>\n",
       "      <th>2</th>\n",
       "      <td>020245D5Z022/55D0</td>\n",
       "      <td>M</td>\n",
       "      <td>7</td>\n",
       "      <td>83</td>\n",
       "    </tr>\n",
       "  </tbody>\n",
       "</table>\n",
       "</div>"
      ],
      "text/plain": [
       "      Артикул старый Размер  Месяц  Продажи, шт.\n",
       "0  02025727Y052D0/55     XS      9            88\n",
       "1  02025727Y052D0/55      S      6           128\n",
       "2  020245D5Z022/55D0      M      7            83"
      ]
     },
     "execution_count": 6,
     "metadata": {},
     "output_type": "execute_result"
    }
   ],
   "source": [
    "# загружаю файл с продажами\n",
    "sales = pd.read_excel('Задание01_Продажи_ToShare.xlsx', sheet_name='Продажи')\n",
    "sales.head(3)"
   ]
  },
  {
   "cell_type": "code",
   "execution_count": 7,
   "metadata": {},
   "outputs": [
    {
     "data": {
      "text/plain": [
       "(60074, 4)"
      ]
     },
     "execution_count": 7,
     "metadata": {},
     "output_type": "execute_result"
    }
   ],
   "source": [
    "sales.shape"
   ]
  },
  {
   "cell_type": "code",
   "execution_count": 8,
   "metadata": {},
   "outputs": [],
   "source": [
    "# в файл с остатками добавляю колонку - \"Артикул новый\", заполняю путем преобразования колонки \"Старый артикул\"\n",
    "sales['Артикул новый'] = 0\n",
    "sales.loc[sales['Артикул старый'].str.len() == 16, 'Артикул новый'] = sales['Артикул старый'].apply(lambda x : x[:12]+ ' ' + x[12:])\n",
    "sales.loc[sales['Артикул старый'].str.match('............/'), 'Артикул новый'] = sales['Артикул старый'].apply(lambda x : x[:12]+ ' ' + x[13:])\n",
    "sales.loc[sales['Артикул старый'].str.match('............../'), 'Артикул новый'] = sales['Артикул старый'].apply(lambda x : x[:12]+ ' ' +x[-2:]+x[12:14])\n",
    "sales.loc[sales['Артикул старый'].str.match('................/'), 'Артикул новый'] = sales['Артикул старый'].apply(lambda x : x[:12] + ' ' + x[12:16])"
   ]
  },
  {
   "cell_type": "code",
   "execution_count": 9,
   "metadata": {},
   "outputs": [
    {
     "data": {
      "text/plain": [
       "0"
      ]
     },
     "execution_count": 9,
     "metadata": {},
     "output_type": "execute_result"
    }
   ],
   "source": [
    "# проверяю незаполненные строки в новой колонке\n",
    "len(sales.loc[sales['Артикул новый'] == 0, :])"
   ]
  },
  {
   "cell_type": "code",
   "execution_count": 10,
   "metadata": {},
   "outputs": [],
   "source": [
    "# объединяю две таблицы по колонкам \"Новый артикул\" и \"Размер\"\n",
    "data = sales.merge(remains, on=['Артикул новый', 'Размер'], how = 'left')"
   ]
  },
  {
   "cell_type": "code",
   "execution_count": 11,
   "metadata": {},
   "outputs": [
    {
     "data": {
      "text/plain": [
       "True"
      ]
     },
     "execution_count": 11,
     "metadata": {},
     "output_type": "execute_result"
    }
   ],
   "source": [
    "# есть ли пропуски\n",
    "data.isnull().values.any()"
   ]
  },
  {
   "cell_type": "code",
   "execution_count": 12,
   "metadata": {},
   "outputs": [],
   "source": [
    "# заполняю пропуски согласно условиям задания\n",
    "data.loc[data['Остаток на складе, шт.'].isna(), 'Остаток на складе, шт.'] = 0\n",
    "data.loc[data['Себестоимость, руб.'].isna(), 'Себестоимость, руб.'] = 200\n",
    "data.loc[data['Цена продажи, руб.'].isna(), 'Цена продажи, руб.'] = 1000"
   ]
  },
  {
   "cell_type": "code",
   "execution_count": 13,
   "metadata": {},
   "outputs": [
    {
     "data": {
      "text/plain": [
       "False"
      ]
     },
     "execution_count": 13,
     "metadata": {},
     "output_type": "execute_result"
    }
   ],
   "source": [
    "data.isnull().values.any()"
   ]
  },
  {
   "cell_type": "code",
   "execution_count": 14,
   "metadata": {},
   "outputs": [
    {
     "data": {
      "text/html": [
       "<div>\n",
       "<style scoped>\n",
       "    .dataframe tbody tr th:only-of-type {\n",
       "        vertical-align: middle;\n",
       "    }\n",
       "\n",
       "    .dataframe tbody tr th {\n",
       "        vertical-align: top;\n",
       "    }\n",
       "\n",
       "    .dataframe thead th {\n",
       "        text-align: right;\n",
       "    }\n",
       "</style>\n",
       "<table border=\"1\" class=\"dataframe\">\n",
       "  <thead>\n",
       "    <tr style=\"text-align: right;\">\n",
       "      <th></th>\n",
       "      <th>Артикул старый</th>\n",
       "      <th>Размер</th>\n",
       "      <th>Месяц</th>\n",
       "      <th>Продажи, шт.</th>\n",
       "      <th>Артикул новый</th>\n",
       "      <th>Остаток на складе, шт.</th>\n",
       "      <th>Себестоимость, руб.</th>\n",
       "      <th>Цена продажи, руб.</th>\n",
       "    </tr>\n",
       "  </thead>\n",
       "  <tbody>\n",
       "    <tr>\n",
       "      <th>0</th>\n",
       "      <td>02025727Y052D0/55</td>\n",
       "      <td>XS</td>\n",
       "      <td>9</td>\n",
       "      <td>88</td>\n",
       "      <td>02025727Y052 55D0</td>\n",
       "      <td>945.0</td>\n",
       "      <td>564.0</td>\n",
       "      <td>1258.0</td>\n",
       "    </tr>\n",
       "    <tr>\n",
       "      <th>1</th>\n",
       "      <td>02025727Y052D0/55</td>\n",
       "      <td>S</td>\n",
       "      <td>6</td>\n",
       "      <td>128</td>\n",
       "      <td>02025727Y052 55D0</td>\n",
       "      <td>861.0</td>\n",
       "      <td>539.0</td>\n",
       "      <td>1471.0</td>\n",
       "    </tr>\n",
       "    <tr>\n",
       "      <th>2</th>\n",
       "      <td>020245D5Z022/55D0</td>\n",
       "      <td>M</td>\n",
       "      <td>7</td>\n",
       "      <td>83</td>\n",
       "      <td>020245D5Z022 55D0</td>\n",
       "      <td>1001.0</td>\n",
       "      <td>1057.0</td>\n",
       "      <td>2526.0</td>\n",
       "    </tr>\n",
       "  </tbody>\n",
       "</table>\n",
       "</div>"
      ],
      "text/plain": [
       "      Артикул старый Размер  Месяц  Продажи, шт.      Артикул новый  \\\n",
       "0  02025727Y052D0/55     XS      9            88  02025727Y052 55D0   \n",
       "1  02025727Y052D0/55      S      6           128  02025727Y052 55D0   \n",
       "2  020245D5Z022/55D0      M      7            83  020245D5Z022 55D0   \n",
       "\n",
       "   Остаток на складе, шт.  Себестоимость, руб.  Цена продажи, руб.  \n",
       "0                   945.0                564.0              1258.0  \n",
       "1                   861.0                539.0              1471.0  \n",
       "2                  1001.0               1057.0              2526.0  "
      ]
     },
     "execution_count": 14,
     "metadata": {},
     "output_type": "execute_result"
    }
   ],
   "source": [
    "data.head(3)"
   ]
  },
  {
   "cell_type": "markdown",
   "metadata": {},
   "source": [
    "#### 1. Назовите общую сумму продаж в рублях за июль?"
   ]
  },
  {
   "cell_type": "code",
   "execution_count": 15,
   "metadata": {},
   "outputs": [
    {
     "data": {
      "text/html": [
       "<div>\n",
       "<style scoped>\n",
       "    .dataframe tbody tr th:only-of-type {\n",
       "        vertical-align: middle;\n",
       "    }\n",
       "\n",
       "    .dataframe tbody tr th {\n",
       "        vertical-align: top;\n",
       "    }\n",
       "\n",
       "    .dataframe thead th {\n",
       "        text-align: right;\n",
       "    }\n",
       "</style>\n",
       "<table border=\"1\" class=\"dataframe\">\n",
       "  <thead>\n",
       "    <tr style=\"text-align: right;\">\n",
       "      <th></th>\n",
       "      <th>Артикул старый</th>\n",
       "      <th>Размер</th>\n",
       "      <th>Месяц</th>\n",
       "      <th>Продажи, шт.</th>\n",
       "      <th>Артикул новый</th>\n",
       "      <th>Остаток на складе, шт.</th>\n",
       "      <th>Себестоимость, руб.</th>\n",
       "      <th>Цена продажи, руб.</th>\n",
       "      <th>Сумма по себест</th>\n",
       "      <th>Сумма продажи</th>\n",
       "    </tr>\n",
       "  </thead>\n",
       "  <tbody>\n",
       "    <tr>\n",
       "      <th>0</th>\n",
       "      <td>02025727Y052D0/55</td>\n",
       "      <td>XS</td>\n",
       "      <td>9</td>\n",
       "      <td>88</td>\n",
       "      <td>02025727Y052 55D0</td>\n",
       "      <td>945.0</td>\n",
       "      <td>564.0</td>\n",
       "      <td>1258.0</td>\n",
       "      <td>49632.0</td>\n",
       "      <td>110704.0</td>\n",
       "    </tr>\n",
       "    <tr>\n",
       "      <th>1</th>\n",
       "      <td>02025727Y052D0/55</td>\n",
       "      <td>S</td>\n",
       "      <td>6</td>\n",
       "      <td>128</td>\n",
       "      <td>02025727Y052 55D0</td>\n",
       "      <td>861.0</td>\n",
       "      <td>539.0</td>\n",
       "      <td>1471.0</td>\n",
       "      <td>68992.0</td>\n",
       "      <td>188288.0</td>\n",
       "    </tr>\n",
       "    <tr>\n",
       "      <th>2</th>\n",
       "      <td>020245D5Z022/55D0</td>\n",
       "      <td>M</td>\n",
       "      <td>7</td>\n",
       "      <td>83</td>\n",
       "      <td>020245D5Z022 55D0</td>\n",
       "      <td>1001.0</td>\n",
       "      <td>1057.0</td>\n",
       "      <td>2526.0</td>\n",
       "      <td>87731.0</td>\n",
       "      <td>209658.0</td>\n",
       "    </tr>\n",
       "  </tbody>\n",
       "</table>\n",
       "</div>"
      ],
      "text/plain": [
       "      Артикул старый Размер  Месяц  Продажи, шт.      Артикул новый  \\\n",
       "0  02025727Y052D0/55     XS      9            88  02025727Y052 55D0   \n",
       "1  02025727Y052D0/55      S      6           128  02025727Y052 55D0   \n",
       "2  020245D5Z022/55D0      M      7            83  020245D5Z022 55D0   \n",
       "\n",
       "   Остаток на складе, шт.  Себестоимость, руб.  Цена продажи, руб.  \\\n",
       "0                   945.0                564.0              1258.0   \n",
       "1                   861.0                539.0              1471.0   \n",
       "2                  1001.0               1057.0              2526.0   \n",
       "\n",
       "   Сумма по себест  Сумма продажи  \n",
       "0          49632.0       110704.0  \n",
       "1          68992.0       188288.0  \n",
       "2          87731.0       209658.0  "
      ]
     },
     "execution_count": 15,
     "metadata": {},
     "output_type": "execute_result"
    }
   ],
   "source": [
    "# добавляю колонки - \"Сумма продаж по себестоимости\" и \"Сумма продажи(по отпускной цене)\"\n",
    "data['Сумма по себест'] = data['Себестоимость, руб.'] * data['Продажи, шт.']\n",
    "data['Сумма продажи'] = data['Цена продажи, руб.'] * data['Продажи, шт.']\n",
    "data.head(3)"
   ]
  },
  {
   "cell_type": "code",
   "execution_count": 16,
   "metadata": {},
   "outputs": [
    {
     "name": "stdout",
     "output_type": "stream",
     "text": [
      "Общая сумма продаж в июле =  1582298364.0\n"
     ]
    }
   ],
   "source": [
    "print('Общая сумма продаж в июле = ', data.loc[data['Месяц'] == 7, 'Сумма продажи'].sum())"
   ]
  },
  {
   "cell_type": "markdown",
   "metadata": {},
   "source": [
    "#### 2. Какая общая сумма прибыли (продажи-себестоимость) в рублях в октябре?"
   ]
  },
  {
   "cell_type": "code",
   "execution_count": 17,
   "metadata": {},
   "outputs": [
    {
     "name": "stdout",
     "output_type": "stream",
     "text": [
      "Общая сумма прибыли (продажи-себестоимость) в рублях в октябре =  960007250.0\n"
     ]
    }
   ],
   "source": [
    "print('Общая сумма прибыли (продажи-себестоимость) в рублях в октябре = ', data.loc[data['Месяц'] == 10, 'Сумма продажи'].sum() - data.loc[data['Месяц'] == 10, 'Сумма по себест'].sum())"
   ]
  },
  {
   "cell_type": "markdown",
   "metadata": {},
   "source": [
    "Можно сделать сводную таблицу и вывести продажи, прибыль по всем месяцам"
   ]
  },
  {
   "cell_type": "code",
   "execution_count": 18,
   "metadata": {},
   "outputs": [
    {
     "data": {
      "text/html": [
       "<div>\n",
       "<style scoped>\n",
       "    .dataframe tbody tr th:only-of-type {\n",
       "        vertical-align: middle;\n",
       "    }\n",
       "\n",
       "    .dataframe tbody tr th {\n",
       "        vertical-align: top;\n",
       "    }\n",
       "\n",
       "    .dataframe thead th {\n",
       "        text-align: right;\n",
       "    }\n",
       "</style>\n",
       "<table border=\"1\" class=\"dataframe\">\n",
       "  <thead>\n",
       "    <tr style=\"text-align: right;\">\n",
       "      <th></th>\n",
       "      <th>Месяц</th>\n",
       "      <th>Сумма по себест</th>\n",
       "      <th>Сумма продажи</th>\n",
       "      <th>Прибыль</th>\n",
       "    </tr>\n",
       "  </thead>\n",
       "  <tbody>\n",
       "    <tr>\n",
       "      <th>0</th>\n",
       "      <td>6</td>\n",
       "      <td>623019810.0</td>\n",
       "      <td>1.580367e+09</td>\n",
       "      <td>957347025.0</td>\n",
       "    </tr>\n",
       "    <tr>\n",
       "      <th>1</th>\n",
       "      <td>7</td>\n",
       "      <td>624009955.0</td>\n",
       "      <td>1.582298e+09</td>\n",
       "      <td>958288409.0</td>\n",
       "    </tr>\n",
       "    <tr>\n",
       "      <th>2</th>\n",
       "      <td>8</td>\n",
       "      <td>626322260.0</td>\n",
       "      <td>1.588125e+09</td>\n",
       "      <td>961802767.0</td>\n",
       "    </tr>\n",
       "    <tr>\n",
       "      <th>3</th>\n",
       "      <td>9</td>\n",
       "      <td>623449833.0</td>\n",
       "      <td>1.581127e+09</td>\n",
       "      <td>957677270.0</td>\n",
       "    </tr>\n",
       "    <tr>\n",
       "      <th>4</th>\n",
       "      <td>10</td>\n",
       "      <td>625225028.0</td>\n",
       "      <td>1.585232e+09</td>\n",
       "      <td>960007250.0</td>\n",
       "    </tr>\n",
       "  </tbody>\n",
       "</table>\n",
       "</div>"
      ],
      "text/plain": [
       "   Месяц  Сумма по себест  Сумма продажи      Прибыль\n",
       "0      6      623019810.0   1.580367e+09  957347025.0\n",
       "1      7      624009955.0   1.582298e+09  958288409.0\n",
       "2      8      626322260.0   1.588125e+09  961802767.0\n",
       "3      9      623449833.0   1.581127e+09  957677270.0\n",
       "4     10      625225028.0   1.585232e+09  960007250.0"
      ]
     },
     "execution_count": 18,
     "metadata": {},
     "output_type": "execute_result"
    }
   ],
   "source": [
    "pivot_data = data.groupby(['Месяц'], as_index = False)[['Сумма по себест', 'Сумма продажи']].agg(sum)\n",
    "pivot_data['Прибыль'] = pivot_data['Сумма продажи'] - pivot_data['Сумма по себест']\n",
    "pivot_data.head()"
   ]
  },
  {
   "cell_type": "markdown",
   "metadata": {},
   "source": [
    "#### 3. Назовите артикул (новый), который в рейтинге продаж (в рублях) был на 5 месте в августе?"
   ]
  },
  {
   "cell_type": "code",
   "execution_count": 19,
   "metadata": {},
   "outputs": [
    {
     "data": {
      "text/html": [
       "<div>\n",
       "<style scoped>\n",
       "    .dataframe tbody tr th:only-of-type {\n",
       "        vertical-align: middle;\n",
       "    }\n",
       "\n",
       "    .dataframe tbody tr th {\n",
       "        vertical-align: top;\n",
       "    }\n",
       "\n",
       "    .dataframe thead th {\n",
       "        text-align: right;\n",
       "    }\n",
       "</style>\n",
       "<table border=\"1\" class=\"dataframe\">\n",
       "  <thead>\n",
       "    <tr style=\"text-align: right;\">\n",
       "      <th></th>\n",
       "      <th>Месяц</th>\n",
       "      <th>Артикул новый</th>\n",
       "      <th>Сумма продажи</th>\n",
       "    </tr>\n",
       "  </thead>\n",
       "  <tbody>\n",
       "    <tr>\n",
       "      <th>13572</th>\n",
       "      <td>12</td>\n",
       "      <td>42025327F563 7500</td>\n",
       "      <td>2032567.0</td>\n",
       "    </tr>\n",
       "    <tr>\n",
       "      <th>12475</th>\n",
       "      <td>12</td>\n",
       "      <td>02023714Z011 55D0</td>\n",
       "      <td>1987428.0</td>\n",
       "    </tr>\n",
       "    <tr>\n",
       "      <th>12767</th>\n",
       "      <td>12</td>\n",
       "      <td>020263213053 5100</td>\n",
       "      <td>1931997.0</td>\n",
       "    </tr>\n",
       "    <tr>\n",
       "      <th>12518</th>\n",
       "      <td>12</td>\n",
       "      <td>020241262242 75P0</td>\n",
       "      <td>1928118.0</td>\n",
       "    </tr>\n",
       "    <tr>\n",
       "      <th>12548</th>\n",
       "      <td>12</td>\n",
       "      <td>02024717Y042 51D0</td>\n",
       "      <td>1921141.0</td>\n",
       "    </tr>\n",
       "  </tbody>\n",
       "</table>\n",
       "</div>"
      ],
      "text/plain": [
       "       Месяц      Артикул новый  Сумма продажи\n",
       "13572     12  42025327F563 7500      2032567.0\n",
       "12475     12  02023714Z011 55D0      1987428.0\n",
       "12767     12  020263213053 5100      1931997.0\n",
       "12518     12  020241262242 75P0      1928118.0\n",
       "12548     12  02024717Y042 51D0      1921141.0"
      ]
     },
     "execution_count": 19,
     "metadata": {},
     "output_type": "execute_result"
    }
   ],
   "source": [
    "pivot_data_2 = data.groupby(['Месяц', 'Артикул новый'], as_index = False)[['Сумма продажи']].agg(sum).sort_values(by=['Месяц', 'Сумма продажи'], ascending=False)\n",
    "pivot_data_2.head()"
   ]
  },
  {
   "cell_type": "code",
   "execution_count": 20,
   "metadata": {},
   "outputs": [
    {
     "name": "stdout",
     "output_type": "stream",
     "text": [
      "Артикул (новый), который в рейтинге продаж (в рублях) был на 5 месте в августе -  42025327F563 7500\n"
     ]
    }
   ],
   "source": [
    "print('Артикул (новый), который в рейтинге продаж (в рублях) был на 5 месте в августе - ', pivot_data_2.loc[pivot_data_2['Месяц'] == 8, 'Артикул новый'].values[4])"
   ]
  },
  {
   "cell_type": "markdown",
   "metadata": {},
   "source": [
    "#### 4. Какой остаток на складе ТОП-10 артикулов по продажам (в рублях) в августе?"
   ]
  },
  {
   "cell_type": "code",
   "execution_count": 21,
   "metadata": {},
   "outputs": [
    {
     "data": {
      "text/plain": [
       "array(['32024712Y023 51D0', '02021714Z103 50D0', '02024717Y042 51D0',\n",
       "       '420258223053 11S0', '42025327F563 7500', '22024721S032 50D0',\n",
       "       '22023714Z113 55D0', '020263210013 6100', '02023714Z011 55D0',\n",
       "       '020211202072 01P0'], dtype=object)"
      ]
     },
     "execution_count": 21,
     "metadata": {},
     "output_type": "execute_result"
    }
   ],
   "source": [
    "# создаю список с Топ артикулами\n",
    "top_10 = pivot_data_2.loc[pivot_data_2['Месяц'] == 8, 'Артикул новый'].values[: 10]\n",
    "top_10"
   ]
  },
  {
   "cell_type": "code",
   "execution_count": 22,
   "metadata": {},
   "outputs": [],
   "source": [
    "# остатки по Топ позициям\n",
    "remains_top = remains[remains['Артикул новый'].isin(top_10)].copy(deep=True)"
   ]
  },
  {
   "cell_type": "code",
   "execution_count": 23,
   "metadata": {},
   "outputs": [],
   "source": [
    "# добавляю необходимые колонки\n",
    "remains_top['Сумма остатков по себест'] = remains_top['Остаток на складе, шт.'] * remains_top['Себестоимость, руб.']\n",
    "remains_top['Сумма остатков по цене прод'] = remains_top['Остаток на складе, шт.'] * remains_top['Цена продажи, руб.']"
   ]
  },
  {
   "cell_type": "code",
   "execution_count": 24,
   "metadata": {},
   "outputs": [
    {
     "name": "stdout",
     "output_type": "stream",
     "text": [
      "Остаток по Топ 10 в шт =  27455\n",
      "Остаток по Топ 10 в руб по себестоимости =  30263974\n",
      "Остаток по Топ 10 в руб по цене продажи =  76712716\n"
     ]
    }
   ],
   "source": [
    "print('Остаток по Топ 10 в шт = ', remains_top['Остаток на складе, шт.'].sum())\n",
    "print('Остаток по Топ 10 в руб по себестоимости = ', remains_top['Сумма остатков по себест'].sum())\n",
    "print('Остаток по Топ 10 в руб по цене продажи = ', remains_top['Сумма остатков по цене прод'].sum())"
   ]
  },
  {
   "cell_type": "markdown",
   "metadata": {},
   "source": [
    "#### 5. Определите, нормальное ли распределение ‘Продаж, шт’? Вычислите квадратное отклонение выборки, а также в каком диапазоне лежат 95% значений."
   ]
  },
  {
   "cell_type": "code",
   "execution_count": 25,
   "metadata": {},
   "outputs": [
    {
     "name": "stdout",
     "output_type": "stream",
     "text": [
      "Populating the interactive namespace from numpy and matplotlib\n"
     ]
    }
   ],
   "source": [
    "from scipy import stats\n",
    "%pylab inline"
   ]
  },
  {
   "cell_type": "code",
   "execution_count": 26,
   "metadata": {},
   "outputs": [
    {
     "data": {
      "image/png": "[encoded data removed]",
      "text/plain": [
       "<Figure size 432x288 with 1 Axes>"
      ]
     },
     "metadata": {
      "needs_background": "light"
     },
     "output_type": "display_data"
    }
   ],
   "source": [
    "# для проверки нормальности прежде всего построю QQ-plot\n",
    "stats.probplot(sales['Продажи, шт.'], dist=\"norm\", plot=pylab, rvalue = True)  \n",
    "plt.show()"
   ]
  },
  {
   "cell_type": "markdown",
   "metadata": {},
   "source": [
    "Можно сделать предположение, что распределение нормальное"
   ]
  },
  {
   "cell_type": "code",
   "execution_count": 27,
   "metadata": {},
   "outputs": [
    {
     "name": "stderr",
     "output_type": "stream",
     "text": [
      "C:\\ProgramData\\Anaconda3\\lib\\site-packages\\scipy\\stats\\morestats.py:1676: UserWarning: p-value may not be accurate for N > 5000.\n",
      "  warnings.warn(\"p-value may not be accurate for N > 5000.\")\n"
     ]
    },
    {
     "data": {
      "text/plain": [
       "(0.999830424785614, 0.00018535286653786898)"
      ]
     },
     "execution_count": 27,
     "metadata": {},
     "output_type": "execute_result"
    }
   ],
   "source": [
    "# Критерий Шапиро-Уилка \n",
    "stats.shapiro(sales['Продажи, шт.'])"
   ]
  },
  {
   "cell_type": "markdown",
   "metadata": {},
   "source": [
    "В данном случае данный критерий не подходит"
   ]
  },
  {
   "cell_type": "code",
   "execution_count": 28,
   "metadata": {},
   "outputs": [
    {
     "data": {
      "text/plain": [
       "(2.094201806743931,\n",
       " 0.3509537244533841,\n",
       " -0.012351923974745873,\n",
       " 3.0150455558974683)"
      ]
     },
     "execution_count": 28,
     "metadata": {},
     "output_type": "execute_result"
    }
   ],
   "source": [
    "# Проведем тест Харки — Бера для определения номарльности распределения,\n",
    "import statsmodels.api as sm\n",
    "sm.stats.stattools.jarque_bera(sales['Продажи, шт.'])"
   ]
  },
  {
   "cell_type": "markdown",
   "metadata": {},
   "source": [
    "p-value = 0.3509537244533841, значит распределение нормальное"
   ]
  },
  {
   "cell_type": "code",
   "execution_count": 29,
   "metadata": {},
   "outputs": [
    {
     "name": "stdout",
     "output_type": "stream",
     "text": [
      "Стандартное отклонение =  19.936632723810465\n"
     ]
    }
   ],
   "source": [
    "print('Стандартное отклонение = ', sales['Продажи, шт.'].std())"
   ]
  },
  {
   "cell_type": "markdown",
   "metadata": {},
   "source": [
    "95% лежит в диапазоне"
   ]
  },
  {
   "cell_type": "code",
   "execution_count": 38,
   "metadata": {},
   "outputs": [
    {
     "data": {
      "text/plain": [
       "45.023660526511094"
      ]
     },
     "execution_count": 38,
     "metadata": {},
     "output_type": "execute_result"
    }
   ],
   "source": [
    "# нижняя граница\n",
    "sales['Продажи, шт.'].mean() - 1.96 * sales['Продажи, шт.'].std()"
   ]
  },
  {
   "cell_type": "code",
   "execution_count": 39,
   "metadata": {},
   "outputs": [
    {
     "data": {
      "text/plain": [
       "123.17526080384812"
      ]
     },
     "execution_count": 39,
     "metadata": {},
     "output_type": "execute_result"
    }
   ],
   "source": [
    "# верхняя граница\n",
    "sales['Продажи, шт.'].mean() + 1.96 * sales['Продажи, шт.'].std()"
   ]
  },
  {
   "cell_type": "markdown",
   "metadata": {},
   "source": [
    "####  Постройте график распределения количества буквенных размеров ('M', 'L', 'S', 'XL', 'XS', 'XXL', 'XXXL', 'XXS') в выборке"
   ]
  },
  {
   "cell_type": "code",
   "execution_count": 33,
   "metadata": {},
   "outputs": [
    {
     "data": {
      "text/plain": [
       "<matplotlib.axes._subplots.AxesSubplot at 0x275ebdab688>"
      ]
     },
     "execution_count": 33,
     "metadata": {},
     "output_type": "execute_result"
    },
    {
     "data": {
      "image/png": "[encoded data removed]",
      "text/plain": [
       "<Figure size 432x288 with 1 Axes>"
      ]
     },
     "metadata": {
      "needs_background": "light"
     },
     "output_type": "display_data"
    }
   ],
   "source": [
    "# только буквенные размеры\n",
    "data[data['Размер'].isin(['M', 'L', 'S', 'XL', 'XS', 'XXL', 'XXXL', 'XXS'])]['Размер'].value_counts().plot(kind = 'bar', grid = True, colormap = 'coolwarm', title = 'Распределения количества буквенных размеров')"
   ]
  },
  {
   "cell_type": "code",
   "execution_count": 34,
   "metadata": {},
   "outputs": [
    {
     "data": {
      "text/plain": [
       "<matplotlib.axes._subplots.AxesSubplot at 0x275ebe40a48>"
      ]
     },
     "execution_count": 34,
     "metadata": {},
     "output_type": "execute_result"
    },
    {
     "data": {
      "image/png": "[encoded data removed]",
      "text/plain": [
       "<Figure size 432x288 with 1 Axes>"
      ]
     },
     "metadata": {
      "needs_background": "light"
     },
     "output_type": "display_data"
    }
   ],
   "source": [
    "# все размеры\n",
    "data['Размер'].value_counts().plot(kind = 'bar', grid = True, colormap = 'coolwarm', title = 'Распределения количества размеров')"
   ]
  }
 ],
 "metadata": {
  "kernelspec": {
   "display_name": "Python 3",
   "language": "python",
   "name": "python3"
  },
  "language_info": {
   "codemirror_mode": {
    "name": "ipython",
    "version": 3
   },
   "file_extension": ".py",
   "mimetype": "text/x-python",
   "name": "python",
   "nbconvert_exporter": "python",
   "pygments_lexer": "ipython3",
   "version": "3.7.6"
  }
 },
 "nbformat": 4,
 "nbformat_minor": 4
}
